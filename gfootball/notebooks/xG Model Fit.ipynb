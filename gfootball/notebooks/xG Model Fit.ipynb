{
 "cells": [
  {
   "cell_type": "code",
   "execution_count": null,
   "metadata": {
    "collapsed": false,
    "pycharm": {
     "name": "#%%\n"
    }
   },
   "outputs": [],
   "source": [
    "%matplotlib inline"
   ]
  },
  {
   "cell_type": "markdown",
   "metadata": {
    "pycharm": {
     "name": "#%% md\n"
    }
   },
   "source": [
    "# Fitting the xG model"
   ]
  },
  {
   "cell_type": "code",
   "execution_count": null,
   "metadata": {
    "collapsed": false,
    "pycharm": {
     "name": "#%%\n"
    }
   },
   "outputs": [],
   "source": [
    "# importing necessary libraries\n",
    "import pandas as pd\n",
    "import numpy as np\n",
    "import json\n",
    "# plotting\n",
    "import matplotlib.pyplot as plt\n",
    "from mplsoccer import VerticalPitch\n",
    "# statistical fitting of models\n",
    "import statsmodels.api as sm\n",
    "import statsmodels.formula.api as smf\n",
    "#opening data\n",
    "import os\n",
    "import pathlib\n",
    "import warnings \n",
    "\n",
    "pd.options.mode.chained_assignment = None\n",
    "warnings.filterwarnings('ignore')"
   ]
  },
  {
   "cell_type": "markdown",
   "metadata": {
    "pycharm": {
     "name": "#%% md\n"
    }
   },
   "source": [
    "## Opening data\n",
    "To fit the xG model we will use Wyscout data. To meet file size requirements of Github, we have to open it from different files,\n",
    "but you can open the file locally from the directory you saved it in.\n",
    "\n"
   ]
  },
  {
   "cell_type": "code",
   "execution_count": null,
   "metadata": {
    "collapsed": false,
    "pycharm": {
     "name": "#%%\n"
    }
   },
   "outputs": [],
   "source": [
    "#load data - store it in train dataframe\n",
    "train = pd.DataFrame()\n",
    "for i in range(13):\n",
    "    file_name = 'events_England_' + str(i+1) + '.json'\n",
    "    path = os.path.join(str(pathlib.Path().resolve().parents[0]), 'data', 'Wyscout', file_name)\n",
    "    with open(path) as f:\n",
    "        data = json.load(f)\n",
    "    train = pd.concat([train, pd.DataFrame(data)])"
   ]
  },
  {
   "cell_type": "markdown",
   "metadata": {
    "pycharm": {
     "name": "#%% md\n"
    }
   },
   "source": [
    "## Preparing  data\n",
    "Exepcted goals model is build using only shots, so we keep only those actions which *subEventName* was *Shot*. Note that this way\n",
    "penalties are excluded which wouldn't be a case if we used only *eventName*. Then, we store the coordinates of a shot transformed\n",
    "to 105 x 68 pitch. Also, we treat the goal as x = 0. Created *C* is an auxillary variable to help us calculate distance and angle.\n",
    "It is the distance from a point to the horizontal line through the middle of the pitch. We calculate the distance to the goal as the\n",
    "distance on Euclidean plane (see [Distance in R2](https://www.youtube.com/watch?v=Qkpr30zSpiE&t=297s&ab_channel=FriendsofTracking)).\n",
    "and angle using the formula from [The Geometry of Shooting](https://soccermatics.medium.com/the-geometry-of-shooting-ae7a67fdf760).\n",
    "Moreover, we need an information if a goal was scored. It can be found in the *tags* column - if in this column exists {*id*: *101*}.\n",
    "\n"
   ]
  },
  {
   "cell_type": "code",
   "execution_count": null,
   "metadata": {
    "collapsed": false,
    "pycharm": {
     "name": "#%%\n"
    }
   },
   "outputs": [],
   "source": [
    "shots = train.loc[train['subEventName'] == 'Shot']\n",
    "#get shot coordinates as separate columns\n",
    "shots[\"X\"] = shots.positions.apply(lambda cell: (100 - cell[0]['x']) * 105/100)\n",
    "shots[\"Y\"] = shots.positions.apply(lambda cell: cell[0]['y'] * 68/100)\n",
    "shots[\"C\"] = shots.positions.apply(lambda cell: abs(cell[0]['y'] - 50) * 68/100)\n",
    "#calculate distance and angle \n",
    "shots[\"Distance\"] = np.sqrt(shots[\"X\"]**2 + shots[\"C\"]**2)\n",
    "shots[\"Angle\"] = np.where(np.arctan(7.32 * shots[\"X\"] / (shots[\"X\"]**2 + shots[\"C\"]**2 - (7.32/2)**2)) > 0, np.arctan(7.32 * shots[\"X\"] /(shots[\"X\"]**2 + shots[\"C\"]**2 - (7.32/2)**2)), np.arctan(7.32 * shots[\"X\"] /(shots[\"X\"]**2 + shots[\"C\"]**2 - (7.32/2)**2)) + np.pi)\n",
    "#if you ever encounter problems (like you have seen that model treats 0 as 1 and 1 as 0) while modelling - change the dependant variable to object \n",
    "shots[\"Goal\"] = shots.tags.apply(lambda x: 1 if {'id':101} in x else 0).astype(object)"
   ]
  },
  {
   "cell_type": "markdown",
   "metadata": {
    "pycharm": {
     "name": "#%% md\n"
    }
   },
   "source": [
    "## Plotting shot location\n",
    "Since we would like to investigate the relationship between shot location and goal location, first we create a heat map of all \n",
    "shots from the 2017/18 Premier League season.\n",
    "\n"
   ]
  },
  {
   "cell_type": "code",
   "execution_count": null,
   "metadata": {
    "collapsed": false,
    "pycharm": {
     "name": "#%%\n"
    }
   },
   "outputs": [],
   "source": [
    "#plot pitch\n",
    "pitch = VerticalPitch(line_color='black', half = True, pitch_type='custom', pitch_length=105, pitch_width=68, line_zorder = 2)\n",
    "fig, ax = pitch.grid(grid_height=0.9, title_height=0.06, axis=False,\n",
    "                     endnote_height=0.04, title_space=0, endnote_space=0)\n",
    "#subtracting x from 105 but not y from 68 because of inverted Wyscout axis\n",
    "#calculate number of shots in each bin\n",
    "bin_statistic_shots = pitch.bin_statistic(105 - shots.X, shots.Y, bins=50)\n",
    "#make heatmap\n",
    "pcm = pitch.heatmap(bin_statistic_shots, ax=ax[\"pitch\"], cmap='Reds', edgecolor='white', linewidth = 0.01)\n",
    "#make legend\n",
    "ax_cbar = fig.add_axes((0.95, 0.05, 0.04, 0.8))\n",
    "cbar = plt.colorbar(pcm, cax=ax_cbar)\n",
    "fig.suptitle('Shot map - 2017/2018 Premier League Season' , fontsize = 30)\n",
    "plt.show()"
   ]
  },
  {
   "cell_type": "markdown",
   "metadata": {
    "pycharm": {
     "name": "#%% md\n"
    }
   },
   "source": [
    "## Plotting goal location\n",
    "Having the shot location, we would also like to know where the goals were scored from.\n",
    "\n"
   ]
  },
  {
   "cell_type": "code",
   "execution_count": null,
   "metadata": {
    "collapsed": false,
    "pycharm": {
     "name": "#%%\n"
    }
   },
   "outputs": [],
   "source": [
    "#take only goals\n",
    "goals = shots.loc[shots[\"Goal\"] == 1]\n",
    "#plot pitch\n",
    "pitch = VerticalPitch(line_color='black', half = True, pitch_type='custom', pitch_length=105, pitch_width=68, line_zorder = 2)\n",
    "fig, ax = pitch.grid(grid_height=0.9, title_height=0.06, axis=False,\n",
    "                     endnote_height=0.04, title_space=0, endnote_space=0)\n",
    "#calculate number of goals in each bin\n",
    "bin_statistic_goals = pitch.bin_statistic(105 - goals.X, goals.Y, bins=50)\n",
    "#plot heatmap\n",
    "pcm = pitch.heatmap(bin_statistic_goals, ax=ax[\"pitch\"], cmap='Reds', edgecolor='white')\n",
    "#make legend\n",
    "ax_cbar = fig.add_axes((0.95, 0.05, 0.04, 0.8))\n",
    "cbar = plt.colorbar(pcm, cax=ax_cbar)\n",
    "fig.suptitle('Goal map - 2017/2018 Premier League Season' , fontsize = 30)\n",
    "plt.show()"
   ]
  },
  {
   "cell_type": "markdown",
   "metadata": {
    "pycharm": {
     "name": "#%% md\n"
    }
   },
   "source": [
    "## Plotting the probability of scoring a goal given the location\n",
    "Now, we can calculate the proportion of goals scored from each bin to number of shots from that location. \n",
    "\n"
   ]
  },
  {
   "cell_type": "code",
   "execution_count": null,
   "metadata": {
    "collapsed": false,
    "pycharm": {
     "name": "#%%\n"
    }
   },
   "outputs": [],
   "source": [
    "#plot pitch\n",
    "pitch = VerticalPitch(line_color='black', half = True, pitch_type='custom', pitch_length=105, pitch_width=68, line_zorder = 2)\n",
    "fig, ax = pitch.grid(grid_height=0.9, title_height=0.06, axis=False,\n",
    "                     endnote_height=0.04, title_space=0, endnote_space=0)\n",
    "bin_statistic = pitch.bin_statistic(105 - shots.X, shots.Y, bins = 50)\n",
    "#normalize number of goals by number of shots \n",
    "bin_statistic[\"statistic\"] = bin_statistic_goals[\"statistic\"]/bin_statistic[\"statistic\"]\n",
    "#plot heatmap\n",
    "pcm = pitch.heatmap(bin_statistic, ax=ax[\"pitch\"], cmap='Reds', edgecolor='white', vmin = 0, vmax = 0.6)\n",
    "#make legend\n",
    "ax_cbar = fig.add_axes((0.95, 0.05, 0.04, 0.8))\n",
    "cbar = plt.colorbar(pcm, cax=ax_cbar)\n",
    "fig.suptitle('Probability of scoring' , fontsize = 30)\n",
    "plt.show()"
   ]
  },
  {
   "cell_type": "markdown",
   "metadata": {
    "pycharm": {
     "name": "#%% md\n"
    }
   },
   "source": [
    "## Plotting a logistic curve\n",
    "Plotting logistic curve\n",
    "\n"
   ]
  },
  {
   "cell_type": "code",
   "execution_count": null,
   "metadata": {
    "collapsed": false,
    "pycharm": {
     "name": "#%%\n"
    }
   },
   "outputs": [],
   "source": [
    "b = [3, -3]\n",
    "x = np.arange(5, step=0.1)\n",
    "y = 1/(1+np.exp(b[0]+b[1]*x))\n",
    "fig,ax = plt.subplots()\n",
    "plt.ylim((-0.05,1.05))\n",
    "plt.xlim((0,5))\n",
    "ax.set_ylabel('y')\n",
    "ax.set_xlabel(\"x\") \n",
    "ax.plot(x, y, linestyle='solid', color='black')\n",
    "ax.spines['top'].set_visible(False)\n",
    "ax.spines['right'].set_visible(False)\n",
    "plt.show()"
   ]
  },
  {
   "cell_type": "markdown",
   "metadata": {
    "pycharm": {
     "name": "#%% md\n"
    }
   },
   "source": [
    "## Investigating the relationship between goals and angle\n",
    "We want to find out if the angle influences scoring a goal. First we plot if goal was scored given\n",
    "the angle.\n",
    "\n"
   ]
  },
  {
   "cell_type": "code",
   "execution_count": null,
   "metadata": {
    "collapsed": false,
    "pycharm": {
     "name": "#%%\n"
    }
   },
   "outputs": [],
   "source": [
    "#first 200 shots\n",
    "shots_200=shots.iloc[:200]\n",
    "#plot first 200 shots goal angle\n",
    "fig, ax = plt.subplots()\n",
    "ax.plot(shots_200['Angle']*180/np.pi, shots_200['Goal'], linestyle='none', marker= '.', markersize= 12, color='black')\n",
    "#make legend\n",
    "ax.set_ylabel('Goal scored')\n",
    "ax.set_xlabel(\"Shot angle (degrees)\")\n",
    "plt.ylim((-0.05,1.05))\n",
    "ax.set_yticks([0,1])\n",
    "ax.set_yticklabels(['No','Yes'])\n",
    "plt.show()"
   ]
  },
  {
   "cell_type": "markdown",
   "metadata": {
    "pycharm": {
     "name": "#%% md\n"
    }
   },
   "source": [
    "## Investigating the relationship between probability of scoring goals and angle\n",
    "We want to find out if the angle influences the probability of scoring a goal. First we plot if goal was scored given\n",
    "the angle.\n",
    "\n"
   ]
  },
  {
   "cell_type": "code",
   "execution_count": null,
   "metadata": {
    "collapsed": false,
    "pycharm": {
     "name": "#%%\n"
    }
   },
   "outputs": [],
   "source": [
    "#number of shots from angle\n",
    "shotcount_dist = np.histogram(shots['Angle']*180/np.pi, bins=40, range=[0, 150])\n",
    "#number of goals from angle\n",
    "goalcount_dist = np.histogram(goals['Angle']*180/np.pi, bins=40, range=[0, 150])\n",
    "np.seterr(divide='ignore', invalid='ignore')\n",
    "#probability of scoring goal\n",
    "prob_goal = np.divide(goalcount_dist[0], shotcount_dist[0])\n",
    "angle = shotcount_dist[1]\n",
    "midangle = (angle[:-1] + angle[1:])/2\n",
    "#make plot\n",
    "fig,ax = plt.subplots()\n",
    "ax.plot(midangle, prob_goal, linestyle='none', marker= '.', markersize= 12, color='black')\n",
    "ax.set_ylabel('Probability chance scored')\n",
    "ax.set_xlabel(\"Shot angle (degrees)\")\n",
    "ax.spines['top'].set_visible(False)\n",
    "ax.spines['right'].set_visible(False)\n",
    "plt.show()"
   ]
  },
  {
   "cell_type": "markdown",
   "metadata": {
    "pycharm": {
     "name": "#%% md\n"
    }
   },
   "source": [
    "## Fitting logistic regression with random coefficients\n",
    "To our data we fit a logistic regression curve with set parameters - 3 for intercept and -3 for angle. However, these are most likely\n",
    "not the best estimators of true parameters. \n",
    "\n"
   ]
  },
  {
   "cell_type": "code",
   "execution_count": null,
   "metadata": {
    "collapsed": false,
    "pycharm": {
     "name": "#%%\n"
    }
   },
   "outputs": [],
   "source": [
    "fig, ax = plt.subplots()\n",
    "b = [3, -3]\n",
    "x = np.arange(150,step=0.1)\n",
    "y = 1/(1+np.exp(b[0]+b[1]*x*np.pi/180)) \n",
    "#plot line\n",
    "ax.plot(midangle, prob_goal, linestyle='none', marker= '.', markersize= 12, color='black')\n",
    "#plot logistic function\n",
    "ax.plot(x, y, linestyle='solid', color='black')\n",
    "plt.show()"
   ]
  },
  {
   "cell_type": "markdown",
   "metadata": {
    "pycharm": {
     "name": "#%% md\n"
    }
   },
   "source": [
    "## Calculating log-likelihood\n",
    "The best parameters are those which maximize the log-likelihood.\n",
    "\n"
   ]
  },
  {
   "cell_type": "code",
   "execution_count": null,
   "metadata": {
    "collapsed": false,
    "pycharm": {
     "name": "#%%\n"
    }
   },
   "outputs": [],
   "source": [
    "#calculate xG\n",
    "xG = 1/(1+np.exp(b[0]+b[1]*shots['Angle'])) \n",
    "shots = shots.assign(xG = xG)\n",
    "shots_40 = shots.iloc[:40]\n",
    "fig, ax = plt.subplots()\n",
    "#plot data\n",
    "ax.plot(shots_40['Angle']*180/np.pi, shots_40['Goal'], linestyle='none', marker= '.', markersize= 12, color='black', zorder = 3)\n",
    "#plot curves\n",
    "ax.plot(x, y, linestyle=':', color='black', zorder = 2)\n",
    "ax.plot(x, 1-y, linestyle='solid', color='black', zorder = 2)\n",
    "#calculate loglikelihood\n",
    "loglikelihood=0\n",
    "for item,shot in shots_40.iterrows():\n",
    "    ang = shot['Angle'] * 180/np.pi\n",
    "    if shot['Goal'] == 1:\n",
    "        loglikelihood = loglikelihood + np.log(shot['xG'])\n",
    "        ax.plot([ang,ang],[shot['Goal'],1-shot['xG']], color='red', zorder = 1)\n",
    "    else:\n",
    "        loglikelihood = loglikelihood + np.log(1 - shot['xG'])\n",
    "        ax.plot([ang,ang], [shot['Goal'], 1-shot['xG']], color='blue', zorder = 1) \n",
    "#make legend\n",
    "ax.set_ylabel('Goal scored')\n",
    "ax.set_xlabel(\"Shot angle (degrees)\")\n",
    "plt.ylim((-0.05,1.05))\n",
    "plt.xlim((0,180))\n",
    "plt.text(120,0.5,'Log-likelihood:') \n",
    "plt.text(120,0.4,str(loglikelihood)[:6])\n",
    "ax.set_yticks([0,1])\n",
    "ax.spines['top'].set_visible(False)\n",
    "ax.spines['right'].set_visible(False)\n",
    "plt.show()"
   ]
  },
  {
   "cell_type": "markdown",
   "metadata": {
    "pycharm": {
     "name": "#%% md\n"
    }
   },
   "source": [
    "## Fitting logistic regression and finding best parameters\n",
    "The best parameters are those which maximize the log-likelihood.\n",
    "\n"
   ]
  },
  {
   "cell_type": "code",
   "execution_count": null,
   "metadata": {
    "collapsed": false,
    "pycharm": {
     "name": "#%%\n"
    }
   },
   "outputs": [],
   "source": [
    "#create model\n",
    "test_model = smf.glm(formula=\"Goal ~ Angle\" , data=shots, \n",
    "                           family=sm.families.Binomial()).fit()\n",
    "print(test_model.summary())\n",
    "#get params        \n",
    "b=test_model.params\n",
    "#calculate xG\n",
    "xGprob = 1/(1+np.exp(b[0]+b[1]*midangle*np.pi/180)) \n",
    "fig, ax = plt.subplots()\n",
    "#plot data\n",
    "ax.plot(midangle, prob_goal, linestyle='none', marker= '.', markersize= 12, color='black')\n",
    "#plot line\n",
    "ax.plot(midangle, xGprob, linestyle='solid', color='black')\n",
    "#make legend\n",
    "ax.set_ylabel('Probability chance scored')\n",
    "ax.set_xlabel(\"Shot angle (degrees)\")\n",
    "ax.spines['top'].set_visible(False)\n",
    "ax.spines['right'].set_visible(False)\n",
    "plt.show()"
   ]
  },
  {
   "cell_type": "markdown",
   "metadata": {
    "pycharm": {
     "name": "#%% md\n"
    }
   },
   "source": [
    "## Investigating the relationship between probability of scoring goals and distance to goal \n",
    "We want to find out if the distanse influences the probability of scoring a goal. First we plot the probability of scoring given\n",
    "the distance. Then, we fit logistic regression to the data.\n",
    "\n"
   ]
  },
  {
   "cell_type": "code",
   "execution_count": null,
   "metadata": {
    "collapsed": false,
    "pycharm": {
     "name": "#%%\n"
    }
   },
   "outputs": [],
   "source": [
    "#number of shots\n",
    "shotcount_dist = np.histogram(shots['Distance'],bins=40,range=[0, 70])\n",
    "#number of goals\n",
    "goalcount_dist = np.histogram(goals['Distance'],bins=40,range=[0, 70])\n",
    "#empirical probability of scoring\n",
    "prob_goal = np.divide(goalcount_dist[0],shotcount_dist[0])\n",
    "distance = shotcount_dist[1]\n",
    "middistance= (distance[:-1] + distance[1:])/2\n",
    "#making a plot\n",
    "fig, ax = plt.subplots()\n",
    "#plotting data\n",
    "ax.plot(middistance, prob_goal, linestyle='none', marker= '.', color='black')\n",
    "#making legend\n",
    "ax.set_ylabel('Probability chance scored')\n",
    "ax.set_xlabel(\"Distance from goal (metres)\")\n",
    "ax.spines['top'].set_visible(False)\n",
    "ax.spines['right'].set_visible(False)\n",
    "\n",
    "\n",
    "#make single variable model of distance\n",
    "test_model = smf.glm(formula=\"Goal ~ Distance\" , data=shots, \n",
    "                           family=sm.families.Binomial()).fit()\n",
    "#print summary\n",
    "print(test_model.summary())        \n",
    "b=test_model.params\n",
    "#calculate xG\n",
    "xGprob=1/(1+np.exp(b[0]+b[1]*middistance)) \n",
    "#plot line\n",
    "ax.plot(middistance, xGprob, linestyle='solid', color='black')\n",
    "plt.show()"
   ]
  },
  {
   "cell_type": "markdown",
   "metadata": {
    "pycharm": {
     "name": "#%% md\n"
    }
   },
   "source": [
    "## Adding squared distance to the model\n",
    "To our model we can add more variables than only one. We can try adding distance to goal squared and see if it improves\n",
    "our predictions.\n",
    "\n"
   ]
  },
  {
   "cell_type": "code",
   "execution_count": null,
   "metadata": {
    "collapsed": false,
    "pycharm": {
     "name": "#%%\n"
    }
   },
   "outputs": [],
   "source": [
    "#calculating distance squared\n",
    "shots[\"D2\"] = shots['Distance']**2\n",
    "#adding it to the model\n",
    "test_model = smf.glm(formula=\"Goal ~ Distance + D2\" , data=shots, \n",
    "                           family=sm.families.Binomial()).fit()\n",
    "#print model summary\n",
    "print(test_model.summary()) \n",
    "#get parameters       \n",
    "b=test_model.params\n",
    "#calculate xG\n",
    "xGprob=1/(1+np.exp(b[0]+b[1]*middistance+b[2]*pow(middistance,2))) \n",
    "fig, ax = plt.subplots()\n",
    "#plot line\n",
    "ax.plot(middistance, prob_goal, linestyle='none', marker= '.', color='black')\n",
    "#make legend\n",
    "ax.set_ylabel('Probability chance scored')\n",
    "ax.set_xlabel(\"Distance from goal (metres)\")\n",
    "ax.spines['top'].set_visible(False)\n",
    "ax.spines['right'].set_visible(False)\n",
    "ax.plot(middistance, xGprob, linestyle='solid', color='black')\n",
    "plt.show()"
   ]
  },
  {
   "cell_type": "markdown",
   "metadata": {
    "pycharm": {
     "name": "#%% md\n"
    }
   },
   "source": [
    "## Adding squared distance to the model\n",
    "To our model we can add more variables than only one. We can try adding distance to goal squared and see if it improves\n",
    "our predictions.\n",
    "\n"
   ]
  },
  {
   "cell_type": "code",
   "execution_count": null,
   "metadata": {
    "collapsed": false,
    "pycharm": {
     "name": "#%%\n"
    }
   },
   "outputs": [],
   "source": [
    "#creating extra variables\n",
    "shots[\"X2\"] = shots['X']**2\n",
    "shots[\"C2\"] = shots['C']**2\n",
    "shots[\"AX\"]  = shots['Angle']*shots['X']\n",
    "\n",
    "# list the model variables you want here\n",
    "model_variables = ['Angle','Distance','X','C', \"X2\", \"C2\", \"AX\"]\n",
    "model=''\n",
    "for v in model_variables[:-1]:\n",
    "    model = model  + v + ' + '\n",
    "model = model + model_variables[-1]\n",
    "\n",
    "#fit the model\n",
    "test_model = smf.glm(formula=\"Goal ~ \" + model, data=shots, \n",
    "                           family=sm.families.Binomial()).fit()\n",
    "#print summary\n",
    "print(test_model.summary())        \n",
    "b=test_model.params\n",
    "\n",
    "#return xG value for more general model\n",
    "def calculate_xG(sh):    \n",
    "   bsum=b[0]\n",
    "   for i,v in enumerate(model_variables):\n",
    "       bsum=bsum+b[i+1]*sh[v]\n",
    "   xG = 1/(1+np.exp(bsum)) \n",
    "   return xG   \n",
    "\n",
    "#add an xG to my dataframe\n",
    "xG=shots.apply(calculate_xG, axis=1) \n",
    "shots = shots.assign(xG=xG)\n",
    "\n",
    "#Create a 2D map of xG\n",
    "pgoal_2d=np.zeros((68,68))\n",
    "for x in range(68):\n",
    "    for y in range(68):\n",
    "        sh=dict()\n",
    "        a = np.arctan(7.32 *x /(x**2 + abs(y-68/2)**2 - (7.32/2)**2))\n",
    "        if a<0:\n",
    "            a = np.pi + a\n",
    "        sh['Angle'] = a\n",
    "        sh['Distance'] = np.sqrt(x**2 + abs(y-68/2)**2)\n",
    "        sh['D2'] = x**2 + abs(y-68/2)**2\n",
    "        sh['X'] = x\n",
    "        sh['AX'] = x*a\n",
    "        sh['X2'] = x**2\n",
    "        sh['C'] = abs(y-68/2)\n",
    "        sh['C2'] = (y-68/2)**2\n",
    "        \n",
    "        pgoal_2d[x,y] =  calculate_xG(sh)\n",
    "\n",
    "#plot pitch\n",
    "pitch = VerticalPitch(line_color='black', half = True, pitch_type='custom', pitch_length=105, pitch_width=68, line_zorder = 2)\n",
    "fig, ax = pitch.draw()\n",
    "#plot probability\n",
    "pos = ax.imshow(pgoal_2d, extent=[-1,68,68,-1], aspect='auto',cmap=plt.cm.Reds,vmin=0, vmax=0.3, zorder = 1)\n",
    "fig.colorbar(pos, ax=ax)\n",
    "#make legend\n",
    "ax.set_title('Probability of goal')\n",
    "plt.xlim((0,68))\n",
    "plt.ylim((0,60))\n",
    "plt.gca().set_aspect('equal', adjustable='box')\n",
    "plt.show()"
   ]
  },
  {
   "cell_type": "markdown",
   "metadata": {
    "pycharm": {
     "name": "#%% md\n"
    }
   },
   "source": [
    "## Testing model fit\n",
    "Every time we make a model, it is important to test it. We test our logistic regression model using Mcfaddens Rsquared and \n",
    "ROC curve.\n",
    "\n"
   ]
  },
  {
   "cell_type": "code",
   "execution_count": null,
   "metadata": {
    "collapsed": false,
    "pycharm": {
     "name": "#%%\n"
    }
   },
   "outputs": [],
   "source": [
    "# Mcfaddens Rsquared for Logistic regression\n",
    "null_model = smf.glm(formula=\"Goal ~ 1 \", data=shots,\n",
    "                     family=sm.families.Binomial()).fit()\n",
    "print(\"Mcfaddens Rsquared\", 1 - test_model.llf / null_model.llf)\n",
    "\n",
    "# ROC curve\n",
    "numobs = 100\n",
    "TP = np.zeros(numobs)\n",
    "FP = np.zeros(numobs)\n",
    "TN = np.zeros(numobs)\n",
    "FN = np.zeros(numobs)\n",
    "\n",
    "for i, threshold in enumerate(np.arange(0, 1, 1 / numobs)):\n",
    "    for j, shot in shots.iterrows():\n",
    "        if (shot['Goal'] == 1):\n",
    "            if (shot['xG'] > threshold):\n",
    "                TP[i] = TP[i] + 1\n",
    "            else:\n",
    "                FN[i] = FN[i] + 1\n",
    "        if (shot['Goal'] == 0):\n",
    "            if (shot['xG'] > threshold):\n",
    "                FP[i] = FP[i] + 1\n",
    "            else:\n",
    "                TN[i] = TN[i] + 1\n",
    "\n",
    "fig, ax = plt.subplots()\n",
    "ax.plot(FP / (FP + TN), TP / (TP + FN), color='black')\n",
    "ax.plot([0, 1], [0, 1], linestyle='dotted', color='black')\n",
    "ax.set_ylabel(\"Predicted to score and did TP/(TP+FN))\")\n",
    "ax.set_xlabel(\"Predicted to score but didn't FP/(FP+TN)\")\n",
    "plt.ylim((0.00, 1.00))\n",
    "plt.xlim((0.00, 1.00))\n",
    "ax.spines['top'].set_visible(False)\n",
    "ax.spines['right'].set_visible(False)"
   ]
  },
  {
   "cell_type": "markdown",
   "metadata": {
    "pycharm": {
     "name": "#%% md\n"
    }
   },
   "source": [
    "## Challenge\n",
    "1) Create different models for headers and non-headers (as suggested in [Measuring the Effectiveness of Playing Strategies at Soccer, Pollard (1997)](https://www.jstor.org/stable/2988603))!\n",
    "2) Assign to penalties xG = 0.8!\n",
    "3) Find out which player had the highest xG in 2017/18 Premier League season!\n",
    "\n"
   ]
  }
 ],
 "metadata": {
  "kernelspec": {
   "display_name": "Python 3",
   "language": "python",
   "name": "python3"
  },
  "language_info": {
   "codemirror_mode": {
    "name": "ipython",
    "version": 3
   },
   "file_extension": ".py",
   "mimetype": "text/x-python",
   "name": "python",
   "nbconvert_exporter": "python",
   "pygments_lexer": "ipython3",
   "version": "3.12.1"
  }
 },
 "nbformat": 4,
 "nbformat_minor": 0
}
